{
  "nbformat": 4,
  "nbformat_minor": 0,
  "metadata": {
    "colab": {
      "provenance": [],
      "authorship_tag": "ABX9TyN0AM/76htCiCbQp7Y/YJcq",
      "include_colab_link": true
    },
    "kernelspec": {
      "name": "python3",
      "display_name": "Python 3"
    },
    "language_info": {
      "name": "python"
    }
  },
  "cells": [
    {
      "cell_type": "markdown",
      "metadata": {
        "id": "view-in-github",
        "colab_type": "text"
      },
      "source": [
        "<a href=\"https://colab.research.google.com/github/Vielena/zadanie3-6/blob/main/3-6%20zadanie%202.ipynb\" target=\"_parent\"><img src=\"https://colab.research.google.com/assets/colab-badge.svg\" alt=\"Open In Colab\"/></a>"
      ]
    },
    {
      "cell_type": "code",
      "execution_count": 14,
      "metadata": {
        "colab": {
          "base_uri": "https://localhost:8080/"
        },
        "id": "lYlfV7blEPOg",
        "outputId": "80fed37d-b421-4d67-a2c7-3e7148701d48"
      },
      "outputs": [
        {
          "output_type": "stream",
          "name": "stdout",
          "text": [
            "+--------------------+------+----------+--------+-------+\n",
            "|                Date|UserID|   Product|Quantity|  Price|\n",
            "+--------------------+------+----------+--------+-------+\n",
            "|2024-04-19 10:25:...|   864|Smartphone|       1| 284.94|\n",
            "|2024-06-26 10:25:...|   979|    Laptop|       4| 1306.6|\n",
            "|2023-09-19 10:25:...|    36|Smartphone|       1|1770.06|\n",
            "|2023-08-13 10:25:...|   504|Smartphone|       1| 166.94|\n",
            "|2024-04-07 10:25:...|   707|Headphones|       2| 934.74|\n",
            "|2023-08-07 10:25:...|   618|Headphones|       5|1541.23|\n",
            "|2023-10-15 10:25:...|   212|    Laptop|       3| 458.55|\n",
            "|2024-02-03 10:25:...|   857|    Camera|       5|1133.56|\n",
            "|2023-10-29 10:25:...|   672|Headphones|       4|1036.03|\n",
            "|2024-05-20 10:25:...|   818|    Camera|       2| 425.77|\n",
            "|2024-03-01 10:25:...|    75|Smartphone|       3| 786.14|\n",
            "|2023-07-23 10:25:...|   904|    Laptop|       5|1847.49|\n",
            "|2023-08-21 10:25:...|   399|Headphones|       4|1781.58|\n",
            "|2024-07-04 10:25:...|   451|    Camera|       2|1490.49|\n",
            "|2023-11-30 10:25:...|   857|Smartphone|       2|1770.41|\n",
            "|2024-05-10 10:25:...|   262|    Tablet|       1|1384.83|\n",
            "|2023-12-03 10:25:...|   536|    Laptop|       4|1160.57|\n",
            "|2024-05-12 10:25:...|   451|    Tablet|       2|1847.18|\n",
            "|2023-10-22 10:25:...|   680|Headphones|       4| 799.89|\n",
            "|2024-07-01 10:25:...|   311|    Laptop|       4|1141.94|\n",
            "|2024-03-23 10:25:...|   173|    Camera|       2|1320.21|\n",
            "|2024-04-10 10:25:...|   462|    Laptop|       2| 389.23|\n",
            "|2023-10-29 10:25:...|   254|    Tablet|       1| 173.35|\n",
            "|2023-11-30 10:25:...|   778|Headphones|       2| 535.05|\n",
            "|2024-02-03 10:25:...|   727|Smartphone|       1|1203.91|\n",
            "|2024-05-18 10:25:...|   649|Headphones|       5|1081.25|\n",
            "|2023-08-16 10:25:...|   697|    Tablet|       4| 1206.3|\n",
            "|2023-11-17 10:25:...|   854|    Camera|       2| 525.71|\n",
            "|2024-02-09 10:25:...|   327|    Camera|       5|1549.22|\n",
            "|2023-11-08 10:25:...|   300|    Laptop|       1|1593.12|\n",
            "|2023-12-29 10:25:...|   592|    Laptop|       2|1883.45|\n",
            "|2024-01-06 10:25:...|   341|    Laptop|       1|1393.54|\n",
            "|2023-08-29 10:25:...|   557|    Laptop|       5|1719.81|\n",
            "|2024-03-09 10:25:...|   502|Smartphone|       3|  824.2|\n",
            "|2024-03-05 10:25:...|    85|    Laptop|       5|1451.91|\n",
            "|2023-09-23 10:25:...|   794|    Camera|       2| 427.71|\n",
            "|2023-09-26 10:25:...|   724|Headphones|       5| 725.43|\n",
            "|2024-04-02 10:25:...|   272|    Tablet|       3|1456.41|\n",
            "|2023-08-24 10:25:...|   427|    Camera|       2|1124.55|\n",
            "|2024-03-30 10:25:...|   694|Smartphone|       1|1043.55|\n",
            "|2024-05-29 10:25:...|   550|Headphones|       5| 139.84|\n",
            "|2023-07-12 10:25:...|   850|    Laptop|       2| 454.48|\n",
            "|2024-03-10 10:25:...|   302|Headphones|       5| 891.96|\n",
            "|2024-03-25 10:25:...|   125|    Tablet|       4|1713.44|\n",
            "|2024-01-27 10:25:...|    64|    Tablet|       2|1942.89|\n",
            "|2024-05-17 10:25:...|   638|    Laptop|       5|1483.34|\n",
            "|2023-10-24 10:25:...|   591|Smartphone|       1| 675.42|\n",
            "|2023-12-15 10:25:...|   412|    Camera|       3| 106.79|\n",
            "|2024-01-16 10:25:...|   832|Headphones|       5| 509.36|\n",
            "|2024-04-30 10:25:...|   399|    Camera|       4| 966.06|\n",
            "+--------------------+------+----------+--------+-------+\n",
            "only showing top 50 rows\n",
            "\n"
          ]
        }
      ],
      "source": [
        "import random\n",
        "import pandas as pd\n",
        "import findspark\n",
        "from datetime import datetime, timedelta\n",
        "from pyspark.sql import SparkSession\n",
        "\n",
        "findspark.init()\n",
        "\n",
        "spark = SparkSession.builder.appName(\"Synthetic E-commerce Data Generation\").getOrCreate()\n",
        "\n",
        "\n",
        "num_rows = 1000\n",
        "products = [\"Laptop\", \"Smartphone\", \"Tablet\", \"Headphones\", \"Camera\"]\n",
        "min_quantity = 1\n",
        "max_quantity = 5\n",
        "min_price = 100\n",
        "max_price = 2000\n",
        "\n",
        "data = []\n",
        "start_date = datetime.now() - timedelta(days=365)\n",
        "\n",
        "for _ in range(num_rows):\n",
        "    date = start_date + timedelta(days=random.randint(0, 365))\n",
        "    user_id = random.randint(1, 1000)\n",
        "    product = random.choice(products)\n",
        "    quantity = random.randint(min_quantity, max_quantity)\n",
        "    price = round(random.uniform(min_price, max_price), 2)\n",
        "    data.append((date, user_id, product, quantity, price))\n",
        "\n",
        "columns = [\"Date\", \"UserID\", \"Product\", \"Quantity\", \"Price\"]\n",
        "df = pd.DataFrame(data, columns=columns)\n",
        "spark_df = spark.createDataFrame(df)\n",
        "\n",
        "spark_df.show(50)\n",
        "\n",
        "\n",
        "\n"
      ]
    },
    {
      "cell_type": "code",
      "source": [
        "output_path = \"/content/zadanie3-6\"\n",
        "spark_df.write.mode(\"overwrite\").csv(output_path, header=True)\n"
      ],
      "metadata": {
        "id": "TXBDvXopMPYL"
      },
      "execution_count": 15,
      "outputs": []
    },
    {
      "cell_type": "code",
      "source": [
        "import os\n",
        "import pandas as pd\n",
        "\n",
        "# Путь к папке с частями данных\n",
        "csv_folder_path = \"/content/zadanie3-6\"\n",
        "print(f\"Содержимое папки {csv_folder_path}:\")\n",
        "print(os.listdir(csv_folder_path))\n",
        "\n",
        "# Объединение всех частей в один DataFrame\n",
        "all_files = [os.path.join(csv_folder_path, f) for f in os.listdir(csv_folder_path) if f.endswith('.csv')]\n",
        "df = pd.concat((pd.read_csv(f) for f in all_files))\n",
        "\n",
        "# Сохранение объединенного DataFrame в один файл CSV\n",
        "output_csv_path = \"/content/zadanie3-6_data.csv\"  # Новое имя файла\n",
        "df.to_csv(output_csv_path, index=False)\n",
        "\n",
        "# Проверка, что файл создан\n",
        "print(f\"Объединенный файл сохранен по пути: {output_csv_path}\")\n"
      ],
      "metadata": {
        "colab": {
          "base_uri": "https://localhost:8080/"
        },
        "id": "ACOtWTsyM-sj",
        "outputId": "303c99e1-e8ce-4176-e478-7561e3c30592"
      },
      "execution_count": 17,
      "outputs": [
        {
          "output_type": "stream",
          "name": "stdout",
          "text": [
            "Содержимое папки /content/zadanie3-6:\n",
            "['part-00000-247ed9e0-891d-44d0-8ea9-762091608a8c-c000.csv', '._SUCCESS.crc', '.part-00000-247ed9e0-891d-44d0-8ea9-762091608a8c-c000.csv.crc', '_SUCCESS', '.part-00001-247ed9e0-891d-44d0-8ea9-762091608a8c-c000.csv.crc', 'part-00001-247ed9e0-891d-44d0-8ea9-762091608a8c-c000.csv']\n",
            "Объединенный файл сохранен по пути: /content/zadanie3-6_data.csv\n"
          ]
        }
      ]
    }
  ]
}